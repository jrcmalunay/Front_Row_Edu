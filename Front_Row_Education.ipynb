{
 "cells": [
  {
   "cell_type": "markdown",
   "metadata": {},
   "source": [
    "## First Row Education - Business Operations Training Project"
   ]
  },
  {
   "cell_type": "code",
   "execution_count": 1,
   "metadata": {},
   "outputs": [],
   "source": [
    "#Loaded necessary packages\n",
    "import pandas as pd\n",
    "import numpy as np\n",
    "import matplotlib.pyplot as plt\n",
    "import seaborn as sns\n",
    "\n",
    "%config InlineBackend.figure_format = 'retina'\n",
    "%matplotlib inline"
   ]
  },
  {
   "cell_type": "code",
   "execution_count": 2,
   "metadata": {},
   "outputs": [
    {
     "data": {
      "text/html": [
       "<div>\n",
       "<style>\n",
       "    .dataframe thead tr:only-child th {\n",
       "        text-align: right;\n",
       "    }\n",
       "\n",
       "    .dataframe thead th {\n",
       "        text-align: left;\n",
       "    }\n",
       "\n",
       "    .dataframe tbody tr th {\n",
       "        vertical-align: top;\n",
       "    }\n",
       "</style>\n",
       "<table border=\"1\" class=\"dataframe\">\n",
       "  <thead>\n",
       "    <tr style=\"text-align: right;\">\n",
       "      <th></th>\n",
       "      <th>training_ID</th>\n",
       "      <th>date</th>\n",
       "      <th>name</th>\n",
       "      <th>training_type</th>\n",
       "      <th>hours</th>\n",
       "      <th>trainer_initials</th>\n",
       "      <th>school_id</th>\n",
       "      <th>t_reg_before</th>\n",
       "      <th>s_reg_before</th>\n",
       "      <th>active_t_before</th>\n",
       "      <th>active_s_before</th>\n",
       "      <th>math_ses_before</th>\n",
       "      <th>ela_ses_before</th>\n",
       "      <th>t_reg_after</th>\n",
       "      <th>s_reg_after</th>\n",
       "      <th>active_t_after</th>\n",
       "      <th>active_s_after</th>\n",
       "      <th>math_ses_after</th>\n",
       "      <th>ela_ses_after</th>\n",
       "    </tr>\n",
       "  </thead>\n",
       "  <tbody>\n",
       "    <tr>\n",
       "      <th>0</th>\n",
       "      <td>68</td>\n",
       "      <td>9/1/17</td>\n",
       "      <td>Chastain Road Elementary</td>\n",
       "      <td>virtual</td>\n",
       "      <td>1.0</td>\n",
       "      <td>AP</td>\n",
       "      <td>79951</td>\n",
       "      <td>38</td>\n",
       "      <td>1448</td>\n",
       "      <td>0</td>\n",
       "      <td>0</td>\n",
       "      <td>0</td>\n",
       "      <td>0</td>\n",
       "      <td>38</td>\n",
       "      <td>1448</td>\n",
       "      <td>0</td>\n",
       "      <td>0</td>\n",
       "      <td>0</td>\n",
       "      <td>0</td>\n",
       "    </tr>\n",
       "    <tr>\n",
       "      <th>1</th>\n",
       "      <td>69</td>\n",
       "      <td>9/1/17</td>\n",
       "      <td>Edward W Wyatt Middle</td>\n",
       "      <td>virtual</td>\n",
       "      <td>1.0</td>\n",
       "      <td>MP</td>\n",
       "      <td>94459</td>\n",
       "      <td>13</td>\n",
       "      <td>454</td>\n",
       "      <td>0</td>\n",
       "      <td>0</td>\n",
       "      <td>0</td>\n",
       "      <td>0</td>\n",
       "      <td>13</td>\n",
       "      <td>454</td>\n",
       "      <td>0</td>\n",
       "      <td>0</td>\n",
       "      <td>0</td>\n",
       "      <td>0</td>\n",
       "    </tr>\n",
       "    <tr>\n",
       "      <th>2</th>\n",
       "      <td>70</td>\n",
       "      <td>9/1/17</td>\n",
       "      <td>Harper Creek Middle School</td>\n",
       "      <td>virtual</td>\n",
       "      <td>1.0</td>\n",
       "      <td>BB</td>\n",
       "      <td>45732</td>\n",
       "      <td>34</td>\n",
       "      <td>1440</td>\n",
       "      <td>0</td>\n",
       "      <td>0</td>\n",
       "      <td>0</td>\n",
       "      <td>0</td>\n",
       "      <td>34</td>\n",
       "      <td>1440</td>\n",
       "      <td>0</td>\n",
       "      <td>0</td>\n",
       "      <td>0</td>\n",
       "      <td>0</td>\n",
       "    </tr>\n",
       "    <tr>\n",
       "      <th>3</th>\n",
       "      <td>71</td>\n",
       "      <td>9/1/17</td>\n",
       "      <td>Children's Reading Center Charter</td>\n",
       "      <td>virtual</td>\n",
       "      <td>1.0</td>\n",
       "      <td>AP</td>\n",
       "      <td>23510</td>\n",
       "      <td>7</td>\n",
       "      <td>345</td>\n",
       "      <td>0</td>\n",
       "      <td>0</td>\n",
       "      <td>0</td>\n",
       "      <td>0</td>\n",
       "      <td>7</td>\n",
       "      <td>345</td>\n",
       "      <td>0</td>\n",
       "      <td>0</td>\n",
       "      <td>0</td>\n",
       "      <td>0</td>\n",
       "    </tr>\n",
       "    <tr>\n",
       "      <th>4</th>\n",
       "      <td>72</td>\n",
       "      <td>9/1/17</td>\n",
       "      <td>Skyline Elementary</td>\n",
       "      <td>virtual</td>\n",
       "      <td>1.0</td>\n",
       "      <td>BB</td>\n",
       "      <td>36503</td>\n",
       "      <td>13</td>\n",
       "      <td>394</td>\n",
       "      <td>0</td>\n",
       "      <td>0</td>\n",
       "      <td>0</td>\n",
       "      <td>0</td>\n",
       "      <td>13</td>\n",
       "      <td>394</td>\n",
       "      <td>0</td>\n",
       "      <td>0</td>\n",
       "      <td>0</td>\n",
       "      <td>0</td>\n",
       "    </tr>\n",
       "  </tbody>\n",
       "</table>\n",
       "</div>"
      ],
      "text/plain": [
       "   training_ID    date                               name training_type  \\\n",
       "0           68  9/1/17           Chastain Road Elementary       virtual   \n",
       "1           69  9/1/17              Edward W Wyatt Middle       virtual   \n",
       "2           70  9/1/17         Harper Creek Middle School       virtual   \n",
       "3           71  9/1/17  Children's Reading Center Charter       virtual   \n",
       "4           72  9/1/17                 Skyline Elementary       virtual   \n",
       "\n",
       "   hours trainer_initials  school_id  t_reg_before  s_reg_before  \\\n",
       "0    1.0               AP      79951            38          1448   \n",
       "1    1.0               MP      94459            13           454   \n",
       "2    1.0               BB      45732            34          1440   \n",
       "3    1.0               AP      23510             7           345   \n",
       "4    1.0               BB      36503            13           394   \n",
       "\n",
       "   active_t_before  active_s_before  math_ses_before  ela_ses_before  \\\n",
       "0                0                0                0               0   \n",
       "1                0                0                0               0   \n",
       "2                0                0                0               0   \n",
       "3                0                0                0               0   \n",
       "4                0                0                0               0   \n",
       "\n",
       "   t_reg_after  s_reg_after  active_t_after  active_s_after  math_ses_after  \\\n",
       "0           38         1448               0               0               0   \n",
       "1           13          454               0               0               0   \n",
       "2           34         1440               0               0               0   \n",
       "3            7          345               0               0               0   \n",
       "4           13          394               0               0               0   \n",
       "\n",
       "   ela_ses_after  \n",
       "0              0  \n",
       "1              0  \n",
       "2              0  \n",
       "3              0  \n",
       "4              0  "
      ]
     },
     "execution_count": 2,
     "metadata": {},
     "output_type": "execute_result"
    }
   ],
   "source": [
    "#Loaded data\n",
    "academics = pd.read_csv('./Front Row Business Operations Training Project - Raw Training Data.csv')\n",
    "\n",
    "#Returned first 5 ouptputs\n",
    "academics.head()"
   ]
  },
  {
   "cell_type": "code",
   "execution_count": 3,
   "metadata": {},
   "outputs": [],
   "source": [
    "#Converted date column to datetime format\n",
    "academics.date = pd.to_datetime(academics.date)\n",
    "\n",
    "#Created 2 new columns named month and quarter\n",
    "academics['month'] = academics.date.dt.month\n",
    "academics['quarter'] = academics.date.dt.quarter"
   ]
  },
  {
   "cell_type": "code",
   "execution_count": 4,
   "metadata": {},
   "outputs": [],
   "source": [
    "#Sorted the data by date and updated the dataframe\n",
    "academics = academics.sort_values(by='date')"
   ]
  },
  {
   "cell_type": "code",
   "execution_count": 5,
   "metadata": {},
   "outputs": [
    {
     "data": {
      "text/plain": [
       "training_ID         0\n",
       "date                0\n",
       "name                1\n",
       "training_type       2\n",
       "hours               2\n",
       "trainer_initials    1\n",
       "school_id           0\n",
       "t_reg_before        0\n",
       "s_reg_before        0\n",
       "active_t_before     0\n",
       "active_s_before     0\n",
       "math_ses_before     0\n",
       "ela_ses_before      0\n",
       "t_reg_after         0\n",
       "s_reg_after         0\n",
       "active_t_after      0\n",
       "active_s_after      0\n",
       "math_ses_after      0\n",
       "ela_ses_after       0\n",
       "month               0\n",
       "quarter             0\n",
       "dtype: int64"
      ]
     },
     "execution_count": 5,
     "metadata": {},
     "output_type": "execute_result"
    }
   ],
   "source": [
    "#Checked to see if there were any missing, NaN, null values\n",
    "academics.isnull().sum()"
   ]
  },
  {
   "cell_type": "code",
   "execution_count": 6,
   "metadata": {},
   "outputs": [
    {
     "data": {
      "text/plain": [
       "(248, 21)"
      ]
     },
     "execution_count": 6,
     "metadata": {},
     "output_type": "execute_result"
    }
   ],
   "source": [
    "#Dropped uncessary data and checked size of new dataframe\n",
    "academics = academics.dropna()\n",
    "academics.shape"
   ]
  },
  {
   "cell_type": "code",
   "execution_count": 7,
   "metadata": {},
   "outputs": [
    {
     "data": {
      "text/plain": [
       "virtual    240\n",
       "person       8\n",
       "Name: training_type, dtype: int64"
      ]
     },
     "execution_count": 7,
     "metadata": {},
     "output_type": "execute_result"
    }
   ],
   "source": [
    "#Looked into type of training customers used\n",
    "academics.training_type.value_counts()"
   ]
  },
  {
   "cell_type": "code",
   "execution_count": 8,
   "metadata": {},
   "outputs": [],
   "source": [
    "#Converted categorical data to numerical for plotting\n",
    "academics.training_type = academics.training_type.apply(lambda x: 0 if x == 'person' else 1)"
   ]
  },
  {
   "cell_type": "code",
   "execution_count": 9,
   "metadata": {},
   "outputs": [
    {
     "data": {
      "image/png": "[encoded data removed]",
      "text/plain": [
       "<matplotlib.figure.Figure at 0x11000c6d0>"
      ]
     },
     "metadata": {
      "image/png": {
       "height": 334,
       "width": 444
      }
     },
     "output_type": "display_data"
    }
   ],
   "source": [
    "#Plotted virtual vs person training; 1 = virtual, 0 = person\n",
    "fig = plt.figure(figsize=(7,5))\n",
    "ax = fig.gca()\n",
    "\n",
    "academics.training_type.value_counts().plot(kind='bar')\n",
    "\n",
    "ax.set_xlabel('Virtual vs Person', fontsize = 12)\n",
    "ax.set_ylabel('Total count', fontsize = 12)\n",
    "ax.set_title('Virtual vs Person', fontsize = 20)\n",
    "\n",
    "plt.show()"
   ]
  },
  {
   "cell_type": "code",
   "execution_count": 10,
   "metadata": {},
   "outputs": [
    {
     "data": {
      "text/plain": [
       "205"
      ]
     },
     "execution_count": 10,
     "metadata": {},
     "output_type": "execute_result"
    }
   ],
   "source": [
    "#Outputs how many unique schools there are\n",
    "academics.name.value_counts().shape[0]"
   ]
  },
  {
   "cell_type": "code",
   "execution_count": 11,
   "metadata": {},
   "outputs": [
    {
     "data": {
      "text/plain": [
       "1.00    220\n",
       "0.50     10\n",
       "3.00      9\n",
       "2.00      7\n",
       "0.67      1\n",
       "1.50      1\n",
       "Name: hours, dtype: int64"
      ]
     },
     "execution_count": 11,
     "metadata": {},
     "output_type": "execute_result"
    }
   ],
   "source": [
    "#Looked into how many hours were used for \n",
    "academics.hours.value_counts()"
   ]
  },
  {
   "cell_type": "code",
   "execution_count": 12,
   "metadata": {},
   "outputs": [
    {
     "data": {
      "text/plain": [
       "4    100\n",
       "1     89\n",
       "3     59\n",
       "Name: quarter, dtype: int64"
      ]
     },
     "execution_count": 12,
     "metadata": {},
     "output_type": "execute_result"
    }
   ],
   "source": [
    "#Returned the amount of data per quarter \n",
    "academics.quarter.value_counts()"
   ]
  },
  {
   "cell_type": "code",
   "execution_count": 13,
   "metadata": {},
   "outputs": [],
   "source": [
    "#created sub dataframes for each quarter\n",
    "quarter1_performace = academics[academics['quarter']==1]\n",
    "quarter2_performace = academics[academics['quarter']==2]\n",
    "quarter3_performace = academics[academics['quarter']==3]\n",
    "quarter4_performace = academics[academics['quarter']==4]"
   ]
  },
  {
   "cell_type": "code",
   "execution_count": 14,
   "metadata": {
    "collapsed": true
   },
   "outputs": [],
   "source": [
    "#Created a function to calculate rate of change per category \n",
    "def performace_rate(value):\n",
    "    active_t_rate = ((value.active_t_after-value.active_t_before)/value.active_t_before) * 100\n",
    "    print \"Average Active rate per Teacher:\", active_t_rate.mean()\n",
    "    \n",
    "    t_reg_rate = ((value.t_reg_after-value.t_reg_before)/value.t_reg_before) * 100\n",
    "    print \"Average Registration rate per Teacher:\", t_reg_rate.mean()\n",
    "    \n",
    "    active_s_rate = ((value.active_s_after-value.active_s_before)/value.active_s_before) * 100\n",
    "    print \"Average Active rate per Student:\", active_s_rate.mean()\n",
    "    \n",
    "    s_reg_rate = ((value.s_reg_after-value.s_reg_before)/value.s_reg_before) * 100\n",
    "    print \"Average Registration rate per Student:\", s_reg_rate.mean()"
   ]
  },
  {
   "cell_type": "code",
   "execution_count": 15,
   "metadata": {},
   "outputs": [
    {
     "name": "stdout",
     "output_type": "stream",
     "text": [
      "Overall Data Performance Results:\n",
      "Average Active rate per Teacher: 31.9857217542\n",
      "Average Registration rate per Teacher: 5.11246652679\n",
      "Average Active rate per Student: 55.1357314694\n",
      "Average Registration rate per Student: 5.09984295005\n"
     ]
    }
   ],
   "source": [
    "#Ran rate of change function to entire dataframe\n",
    "print \"Overall Data Performance Results:\"\n",
    "performace_rate(academics)"
   ]
  },
  {
   "cell_type": "code",
   "execution_count": 16,
   "metadata": {},
   "outputs": [
    {
     "name": "stdout",
     "output_type": "stream",
     "text": [
      "Quarter 1 Performace Results:\n",
      "Average Active rate per Teacher: 31.9857217542\n",
      "Average Registration rate per Teacher: 14.4021922889\n",
      "Average Active rate per Student: 55.1357314694\n",
      "Average Registration rate per Student: 14.3637132563\n",
      "============\n",
      "Quarter 3 Performance Results:\n",
      "Average Active rate per Teacher: nan\n",
      "Average Registration rate per Teacher: 0.0\n",
      "Average Active rate per Student: nan\n",
      "Average Registration rate per Student: 0.0\n",
      "============\n",
      "Quarter 4 Performance Results:\n",
      "Average Active rate per Teacher: nan\n",
      "Average Registration rate per Teacher: 0.0\n",
      "Average Active rate per Student: nan\n",
      "Average Registration rate per Student: 0.00262894999737\n"
     ]
    }
   ],
   "source": [
    "#Ran rate of change function per quarter\n",
    "print \"Quarter 1 Performace Results:\"\n",
    "performace_rate(quarter1_performace)\n",
    "print \"============\"\n",
    "print \"Quarter 3 Performance Results:\"\n",
    "performace_rate(quarter3_performace)\n",
    "print \"============\"\n",
    "print \"Quarter 4 Performance Results:\"\n",
    "performace_rate(quarter4_performace)"
   ]
  },
  {
   "cell_type": "code",
   "execution_count": 17,
   "metadata": {},
   "outputs": [],
   "source": [
    "#Created function to calculate retention rate\n",
    "def retention_rate(value):\n",
    "    active_t_rate = (value.active_t_after/value.active_t_before)* 100\n",
    "    print \"Average Active rate per Teacher:\", active_t_rate.mean()\n",
    "    \n",
    "    t_reg_rate = (value.t_reg_after/value.t_reg_before) * 100\n",
    "    print \"Average Registration rate per Teacher:\", t_reg_rate.mean()\n",
    "    \n",
    "    active_s_rate = (value.active_s_after/value.active_s_before) * 100\n",
    "    print \"Average Active rate per Student:\", active_s_rate.mean()\n",
    "    \n",
    "    s_reg_rate = (value.s_reg_after/value.s_reg_before) * 100\n",
    "    print \"Average Registration rate per Student:\", s_reg_rate.mean()"
   ]
  },
  {
   "cell_type": "code",
   "execution_count": 18,
   "metadata": {},
   "outputs": [
    {
     "name": "stdout",
     "output_type": "stream",
     "text": [
      "Overall Data Retention Results:\n",
      "Average Active rate per Teacher: 131.985721754\n",
      "Average Registration rate per Teacher: 105.112466527\n",
      "Average Active rate per Student: 155.135731469\n",
      "Average Registration rate per Student: 105.09984295\n"
     ]
    }
   ],
   "source": [
    "#Ran retention function to entire dataframe\n",
    "print \"Overall Data Retention Results:\"\n",
    "retention_rate(academics)"
   ]
  },
  {
   "cell_type": "code",
   "execution_count": 19,
   "metadata": {},
   "outputs": [
    {
     "name": "stdout",
     "output_type": "stream",
     "text": [
      "Quarter 1 Retention Results:\n",
      "Average Active rate per Teacher: 131.985721754\n",
      "Average Registration rate per Teacher: 114.402192289\n",
      "Average Active rate per Student: 155.135731469\n",
      "Average Registration rate per Student: 114.363713256\n",
      "============\n",
      "Quarter 3 Retention Results:\n",
      "Average Active rate per Teacher: nan\n",
      "Average Registration rate per Teacher: 100.0\n",
      "Average Active rate per Student: nan\n",
      "Average Registration rate per Student: 100.0\n",
      "============\n",
      "Quarter 4 Retention Results:\n",
      "Average Active rate per Teacher: nan\n",
      "Average Registration rate per Teacher: 100.0\n",
      "Average Active rate per Student: nan\n",
      "Average Registration rate per Student: 100.00262895\n"
     ]
    }
   ],
   "source": [
    "#Ran retention function per quarter\n",
    "print \"Quarter 1 Retention Results:\"\n",
    "retention_rate(quarter1_performace)\n",
    "print \"============\"\n",
    "print \"Quarter 3 Retention Results:\"\n",
    "retention_rate(quarter3_performace)\n",
    "print \"============\"\n",
    "print \"Quarter 4 Retention Results:\"\n",
    "retention_rate(quarter4_performace)"
   ]
  },
  {
   "cell_type": "code",
   "execution_count": 20,
   "metadata": {},
   "outputs": [
    {
     "name": "stdout",
     "output_type": "stream",
     "text": [
      "13    6\n",
      "15    5\n",
      "7     5\n",
      "12    4\n",
      "14    4\n",
      "Name: t_reg_before, dtype: int64\n"
     ]
    }
   ],
   "source": [
    "#Looked into quarter 3 results; took first 5 rows \n",
    "print quarter3_performace.t_reg_before.value_counts().head()"
   ]
  },
  {
   "cell_type": "code",
   "execution_count": 21,
   "metadata": {},
   "outputs": [
    {
     "name": "stdout",
     "output_type": "stream",
     "text": [
      "13    6\n",
      "15    5\n",
      "7     5\n",
      "12    4\n",
      "14    4\n",
      "Name: t_reg_after, dtype: int64\n"
     ]
    }
   ],
   "source": [
    "#Looked into quarter 3 results; took first 5 rows\n",
    "print quarter3_performace.t_reg_after.value_counts().head()"
   ]
  },
  {
   "cell_type": "markdown",
   "metadata": {},
   "source": [
    "----------------"
   ]
  },
  {
   "cell_type": "markdown",
   "metadata": {},
   "source": [
    "## Analysis / Summary\n",
    "\n",
    "**First Glance**\n",
    "\n",
    "What I first noticed in the dataset was the date. It was not sorted correctly. It started from September 2017 and ended at February 2017. After sorting the data, it was also missing several months (March - August to be exact). I was hoping to do a quarterly analysis, but all of Quarter 2 was missing. The date data was unbalanced. In addition, there were a few rows with missing data (null values). After updating the dataset, I was able to perform some statistics and analysis.\n",
    "\n",
    "**Statistics**\n",
    "\n",
    "There are 205 distinct schools. About 97% chose virtual trainings over the other 3% who preferred personal trainings. 200 confirmed for 1 hour sessions wehre as only 9 confirmed for 3 hours or more.\n",
    "\n",
    "**Analysis**\n",
    "\n",
    "We looked at the performace rate for all registered and active teachers and students. As we can see, all results were positive! This is great! The average active rate for teachers came out to: 32% and the average registered teacher came out to: 5%. For the students, 55% became active where an additional 5% increase were registered. \n",
    "\n",
    "**Summary**\n",
    "\n",
    "This proves that the trainings do have a major impact on schools! It does provide insight on how much usage per user. However, for Front Row Education, it would be more beneficial if schools purchased the additional training package. "
   ]
  },
  {
   "cell_type": "markdown",
   "metadata": {},
   "source": [
    "## Updates / Future Findings\n",
    "\n",
    "Overall, I enjoyed analyzing this dataset. One of the major issues was the incomplete data. It's difficult to produce a timeline analysis for customer usage or profit gain without all the data. Also, it would be great to see the scores for homework, tests, etc. from the students to see how much of an impact First Row Education provides. \n",
    "\n",
    "I always look at the data. The data is where I spend most of my time. Creating analyses would provide nothing if the data is incorrect. It's vital to any bussiness, company, or service."
   ]
  }
 ],
 "metadata": {
  "kernelspec": {
   "display_name": "Python 2",
   "language": "python",
   "name": "python2"
  },
  "language_info": {
   "codemirror_mode": {
    "name": "ipython",
    "version": 2
   },
   "file_extension": ".py",
   "mimetype": "text/x-python",
   "name": "python",
   "nbconvert_exporter": "python",
   "pygments_lexer": "ipython2",
   "version": "2.7.13"
  }
 },
 "nbformat": 4,
 "nbformat_minor": 2
}
